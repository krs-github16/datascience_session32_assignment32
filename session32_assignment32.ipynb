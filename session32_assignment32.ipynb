{
 "cells": [
  {
   "cell_type": "markdown",
   "metadata": {},
   "source": [
    "# problem statement"
   ]
  },
  {
   "cell_type": "code",
   "execution_count": null,
   "metadata": {},
   "outputs": [],
   "source": [
    "# In this assignment students have to make ARIMA model over shampoo sales data and \n",
    "# check the MSE between predicted and actual value. \n",
    "# Student can download data in .csv format from the following link: \n",
    "\n",
    "    #https://datamarket.com/data/set/22r0/sales-of-shampoo-over-a-three-year-period#!ds=22r0&display=line \n"
   ]
  },
  {
   "cell_type": "code",
   "execution_count": 16,
   "metadata": {},
   "outputs": [
    {
     "data": {
      "text/html": [
       "<div>\n",
       "<style scoped>\n",
       "    .dataframe tbody tr th:only-of-type {\n",
       "        vertical-align: middle;\n",
       "    }\n",
       "\n",
       "    .dataframe tbody tr th {\n",
       "        vertical-align: top;\n",
       "    }\n",
       "\n",
       "    .dataframe thead th {\n",
       "        text-align: right;\n",
       "    }\n",
       "</style>\n",
       "<table border=\"1\" class=\"dataframe\">\n",
       "  <thead>\n",
       "    <tr style=\"text-align: right;\">\n",
       "      <th></th>\n",
       "      <th>Sales of shampoo over a three year period</th>\n",
       "    </tr>\n",
       "    <tr>\n",
       "      <th>Month</th>\n",
       "      <th></th>\n",
       "    </tr>\n",
       "  </thead>\n",
       "  <tbody>\n",
       "    <tr>\n",
       "      <th>1-01</th>\n",
       "      <td>266.0</td>\n",
       "    </tr>\n",
       "    <tr>\n",
       "      <th>1-02</th>\n",
       "      <td>145.9</td>\n",
       "    </tr>\n",
       "    <tr>\n",
       "      <th>1-03</th>\n",
       "      <td>183.1</td>\n",
       "    </tr>\n",
       "    <tr>\n",
       "      <th>1-04</th>\n",
       "      <td>119.3</td>\n",
       "    </tr>\n",
       "    <tr>\n",
       "      <th>1-05</th>\n",
       "      <td>180.3</td>\n",
       "    </tr>\n",
       "  </tbody>\n",
       "</table>\n",
       "</div>"
      ],
      "text/plain": [
       "       Sales of shampoo over a three year period\n",
       "Month                                           \n",
       "1-01                                       266.0\n",
       "1-02                                       145.9\n",
       "1-03                                       183.1\n",
       "1-04                                       119.3\n",
       "1-05                                       180.3"
      ]
     },
     "execution_count": 16,
     "metadata": {},
     "output_type": "execute_result"
    }
   ],
   "source": [
    "import pandas as pd\n",
    "from pandas import datetime\n",
    "from matplotlib import pyplot\n",
    "from statsmodels.tsa.arima_model import ARIMA\n",
    "from sklearn.metrics import mean_squared_error\n",
    "\n",
    "def parser(x):\n",
    "    return datetime.strptime('190'+x, '%Y-%m')\n",
    "sales = pd.read_csv('sales-of-shampoo-over-a-three-ye.csv', header=0, parse_dates=True, index_col='Month')\n",
    "sales.head()"
   ]
  },
  {
   "cell_type": "code",
   "execution_count": 17,
   "metadata": {},
   "outputs": [
    {
     "data": {
      "text/plain": [
       "<matplotlib.axes._subplots.AxesSubplot at 0x2625609d588>"
      ]
     },
     "execution_count": 17,
     "metadata": {},
     "output_type": "execute_result"
    },
    {
     "data": {
      "image/png": "[encoded data removed]",
      "text/plain": [
       "<Figure size 432x288 with 1 Axes>"
      ]
     },
     "metadata": {
      "needs_background": "light"
     },
     "output_type": "display_data"
    }
   ],
   "source": [
    "sales.plot()"
   ]
  },
  {
   "cell_type": "markdown",
   "metadata": {},
   "source": [
    "## Converting series to stationary"
   ]
  },
  {
   "cell_type": "code",
   "execution_count": 19,
   "metadata": {},
   "outputs": [
    {
     "data": {
      "text/html": [
       "<div>\n",
       "<style scoped>\n",
       "    .dataframe tbody tr th:only-of-type {\n",
       "        vertical-align: middle;\n",
       "    }\n",
       "\n",
       "    .dataframe tbody tr th {\n",
       "        vertical-align: top;\n",
       "    }\n",
       "\n",
       "    .dataframe thead th {\n",
       "        text-align: right;\n",
       "    }\n",
       "</style>\n",
       "<table border=\"1\" class=\"dataframe\">\n",
       "  <thead>\n",
       "    <tr style=\"text-align: right;\">\n",
       "      <th></th>\n",
       "      <th>Sales of shampoo over a three year period</th>\n",
       "    </tr>\n",
       "    <tr>\n",
       "      <th>Month</th>\n",
       "      <th></th>\n",
       "    </tr>\n",
       "  </thead>\n",
       "  <tbody>\n",
       "    <tr>\n",
       "      <th>1-01</th>\n",
       "      <td>266.0</td>\n",
       "    </tr>\n",
       "    <tr>\n",
       "      <th>1-02</th>\n",
       "      <td>145.9</td>\n",
       "    </tr>\n",
       "    <tr>\n",
       "      <th>1-03</th>\n",
       "      <td>183.1</td>\n",
       "    </tr>\n",
       "    <tr>\n",
       "      <th>1-04</th>\n",
       "      <td>119.3</td>\n",
       "    </tr>\n",
       "    <tr>\n",
       "      <th>1-05</th>\n",
       "      <td>180.3</td>\n",
       "    </tr>\n",
       "  </tbody>\n",
       "</table>\n",
       "</div>"
      ],
      "text/plain": [
       "       Sales of shampoo over a three year period\n",
       "Month                                           \n",
       "1-01                                       266.0\n",
       "1-02                                       145.9\n",
       "1-03                                       183.1\n",
       "1-04                                       119.3\n",
       "1-05                                       180.3"
      ]
     },
     "execution_count": 19,
     "metadata": {},
     "output_type": "execute_result"
    }
   ],
   "source": [
    "sales.head()"
   ]
  },
  {
   "cell_type": "code",
   "execution_count": 20,
   "metadata": {},
   "outputs": [
    {
     "data": {
      "text/html": [
       "<div>\n",
       "<style scoped>\n",
       "    .dataframe tbody tr th:only-of-type {\n",
       "        vertical-align: middle;\n",
       "    }\n",
       "\n",
       "    .dataframe tbody tr th {\n",
       "        vertical-align: top;\n",
       "    }\n",
       "\n",
       "    .dataframe thead th {\n",
       "        text-align: right;\n",
       "    }\n",
       "</style>\n",
       "<table border=\"1\" class=\"dataframe\">\n",
       "  <thead>\n",
       "    <tr style=\"text-align: right;\">\n",
       "      <th></th>\n",
       "      <th>Sales of shampoo over a three year period</th>\n",
       "    </tr>\n",
       "    <tr>\n",
       "      <th>Month</th>\n",
       "      <th></th>\n",
       "    </tr>\n",
       "  </thead>\n",
       "  <tbody>\n",
       "    <tr>\n",
       "      <th>1-01</th>\n",
       "      <td>NaN</td>\n",
       "    </tr>\n",
       "    <tr>\n",
       "      <th>1-02</th>\n",
       "      <td>266.0</td>\n",
       "    </tr>\n",
       "    <tr>\n",
       "      <th>1-03</th>\n",
       "      <td>145.9</td>\n",
       "    </tr>\n",
       "    <tr>\n",
       "      <th>1-04</th>\n",
       "      <td>183.1</td>\n",
       "    </tr>\n",
       "    <tr>\n",
       "      <th>1-05</th>\n",
       "      <td>119.3</td>\n",
       "    </tr>\n",
       "    <tr>\n",
       "      <th>1-06</th>\n",
       "      <td>180.3</td>\n",
       "    </tr>\n",
       "    <tr>\n",
       "      <th>1-07</th>\n",
       "      <td>168.5</td>\n",
       "    </tr>\n",
       "    <tr>\n",
       "      <th>1-08</th>\n",
       "      <td>231.8</td>\n",
       "    </tr>\n",
       "    <tr>\n",
       "      <th>1-09</th>\n",
       "      <td>224.5</td>\n",
       "    </tr>\n",
       "    <tr>\n",
       "      <th>1-10</th>\n",
       "      <td>192.8</td>\n",
       "    </tr>\n",
       "    <tr>\n",
       "      <th>1-11</th>\n",
       "      <td>122.9</td>\n",
       "    </tr>\n",
       "    <tr>\n",
       "      <th>1-12</th>\n",
       "      <td>336.5</td>\n",
       "    </tr>\n",
       "    <tr>\n",
       "      <th>2-01</th>\n",
       "      <td>185.9</td>\n",
       "    </tr>\n",
       "    <tr>\n",
       "      <th>2-02</th>\n",
       "      <td>194.3</td>\n",
       "    </tr>\n",
       "    <tr>\n",
       "      <th>2-03</th>\n",
       "      <td>149.5</td>\n",
       "    </tr>\n",
       "    <tr>\n",
       "      <th>2-04</th>\n",
       "      <td>210.1</td>\n",
       "    </tr>\n",
       "    <tr>\n",
       "      <th>2-05</th>\n",
       "      <td>273.3</td>\n",
       "    </tr>\n",
       "    <tr>\n",
       "      <th>2-06</th>\n",
       "      <td>191.4</td>\n",
       "    </tr>\n",
       "    <tr>\n",
       "      <th>2-07</th>\n",
       "      <td>287.0</td>\n",
       "    </tr>\n",
       "    <tr>\n",
       "      <th>2-08</th>\n",
       "      <td>226.0</td>\n",
       "    </tr>\n",
       "    <tr>\n",
       "      <th>2-09</th>\n",
       "      <td>303.6</td>\n",
       "    </tr>\n",
       "    <tr>\n",
       "      <th>2-10</th>\n",
       "      <td>289.9</td>\n",
       "    </tr>\n",
       "    <tr>\n",
       "      <th>2-11</th>\n",
       "      <td>421.6</td>\n",
       "    </tr>\n",
       "    <tr>\n",
       "      <th>2-12</th>\n",
       "      <td>264.5</td>\n",
       "    </tr>\n",
       "    <tr>\n",
       "      <th>3-01</th>\n",
       "      <td>342.3</td>\n",
       "    </tr>\n",
       "    <tr>\n",
       "      <th>3-02</th>\n",
       "      <td>339.7</td>\n",
       "    </tr>\n",
       "    <tr>\n",
       "      <th>3-03</th>\n",
       "      <td>440.4</td>\n",
       "    </tr>\n",
       "    <tr>\n",
       "      <th>3-04</th>\n",
       "      <td>315.9</td>\n",
       "    </tr>\n",
       "    <tr>\n",
       "      <th>3-05</th>\n",
       "      <td>439.3</td>\n",
       "    </tr>\n",
       "    <tr>\n",
       "      <th>3-06</th>\n",
       "      <td>401.3</td>\n",
       "    </tr>\n",
       "    <tr>\n",
       "      <th>3-07</th>\n",
       "      <td>437.4</td>\n",
       "    </tr>\n",
       "    <tr>\n",
       "      <th>3-08</th>\n",
       "      <td>575.5</td>\n",
       "    </tr>\n",
       "    <tr>\n",
       "      <th>3-09</th>\n",
       "      <td>407.6</td>\n",
       "    </tr>\n",
       "    <tr>\n",
       "      <th>3-10</th>\n",
       "      <td>682.0</td>\n",
       "    </tr>\n",
       "    <tr>\n",
       "      <th>3-11</th>\n",
       "      <td>475.3</td>\n",
       "    </tr>\n",
       "    <tr>\n",
       "      <th>3-12</th>\n",
       "      <td>581.3</td>\n",
       "    </tr>\n",
       "    <tr>\n",
       "      <th>Sales of shampoo over a three year period</th>\n",
       "      <td>646.9</td>\n",
       "    </tr>\n",
       "  </tbody>\n",
       "</table>\n",
       "</div>"
      ],
      "text/plain": [
       "                                           Sales of shampoo over a three year period\n",
       "Month                                                                               \n",
       "1-01                                                                             NaN\n",
       "1-02                                                                           266.0\n",
       "1-03                                                                           145.9\n",
       "1-04                                                                           183.1\n",
       "1-05                                                                           119.3\n",
       "1-06                                                                           180.3\n",
       "1-07                                                                           168.5\n",
       "1-08                                                                           231.8\n",
       "1-09                                                                           224.5\n",
       "1-10                                                                           192.8\n",
       "1-11                                                                           122.9\n",
       "1-12                                                                           336.5\n",
       "2-01                                                                           185.9\n",
       "2-02                                                                           194.3\n",
       "2-03                                                                           149.5\n",
       "2-04                                                                           210.1\n",
       "2-05                                                                           273.3\n",
       "2-06                                                                           191.4\n",
       "2-07                                                                           287.0\n",
       "2-08                                                                           226.0\n",
       "2-09                                                                           303.6\n",
       "2-10                                                                           289.9\n",
       "2-11                                                                           421.6\n",
       "2-12                                                                           264.5\n",
       "3-01                                                                           342.3\n",
       "3-02                                                                           339.7\n",
       "3-03                                                                           440.4\n",
       "3-04                                                                           315.9\n",
       "3-05                                                                           439.3\n",
       "3-06                                                                           401.3\n",
       "3-07                                                                           437.4\n",
       "3-08                                                                           575.5\n",
       "3-09                                                                           407.6\n",
       "3-10                                                                           682.0\n",
       "3-11                                                                           475.3\n",
       "3-12                                                                           581.3\n",
       "Sales of shampoo over a three year period                                      646.9"
      ]
     },
     "execution_count": 20,
     "metadata": {},
     "output_type": "execute_result"
    }
   ],
   "source": [
    "\n",
    "sales.shift(1)"
   ]
  },
  {
   "cell_type": "code",
   "execution_count": 21,
   "metadata": {},
   "outputs": [],
   "source": [
    "sales_diff = sales.diff(periods=1)\n",
    "#integrated of order 1, denoted by d(for diff), one of the parameter of ARIMA model"
   ]
  },
  {
   "cell_type": "code",
   "execution_count": 22,
   "metadata": {},
   "outputs": [
    {
     "data": {
      "text/html": [
       "<div>\n",
       "<style scoped>\n",
       "    .dataframe tbody tr th:only-of-type {\n",
       "        vertical-align: middle;\n",
       "    }\n",
       "\n",
       "    .dataframe tbody tr th {\n",
       "        vertical-align: top;\n",
       "    }\n",
       "\n",
       "    .dataframe thead th {\n",
       "        text-align: right;\n",
       "    }\n",
       "</style>\n",
       "<table border=\"1\" class=\"dataframe\">\n",
       "  <thead>\n",
       "    <tr style=\"text-align: right;\">\n",
       "      <th></th>\n",
       "      <th>Sales of shampoo over a three year period</th>\n",
       "    </tr>\n",
       "    <tr>\n",
       "      <th>Month</th>\n",
       "      <th></th>\n",
       "    </tr>\n",
       "  </thead>\n",
       "  <tbody>\n",
       "    <tr>\n",
       "      <th>1-02</th>\n",
       "      <td>-120.1</td>\n",
       "    </tr>\n",
       "    <tr>\n",
       "      <th>1-03</th>\n",
       "      <td>37.2</td>\n",
       "    </tr>\n",
       "    <tr>\n",
       "      <th>1-04</th>\n",
       "      <td>-63.8</td>\n",
       "    </tr>\n",
       "    <tr>\n",
       "      <th>1-05</th>\n",
       "      <td>61.0</td>\n",
       "    </tr>\n",
       "    <tr>\n",
       "      <th>1-06</th>\n",
       "      <td>-11.8</td>\n",
       "    </tr>\n",
       "  </tbody>\n",
       "</table>\n",
       "</div>"
      ],
      "text/plain": [
       "       Sales of shampoo over a three year period\n",
       "Month                                           \n",
       "1-02                                      -120.1\n",
       "1-03                                        37.2\n",
       "1-04                                       -63.8\n",
       "1-05                                        61.0\n",
       "1-06                                       -11.8"
      ]
     },
     "execution_count": 22,
     "metadata": {},
     "output_type": "execute_result"
    }
   ],
   "source": [
    "sales_diff = sales_diff[1:]\n",
    "sales_diff.head()"
   ]
  },
  {
   "cell_type": "code",
   "execution_count": 45,
   "metadata": {},
   "outputs": [
    {
     "data": {
      "text/plain": [
       "<matplotlib.axes._subplots.AxesSubplot at 0x26256e55b70>"
      ]
     },
     "execution_count": 45,
     "metadata": {},
     "output_type": "execute_result"
    },
    {
     "data": {
      "image/png": "[encoded data removed]",
      "text/plain": [
       "<Figure size 432x288 with 1 Axes>"
      ]
     },
     "metadata": {
      "needs_background": "light"
     },
     "output_type": "display_data"
    }
   ],
   "source": [
    "sales_diff.plot()"
   ]
  },
  {
   "cell_type": "code",
   "execution_count": 34,
   "metadata": {},
   "outputs": [
    {
     "name": "stdout",
     "output_type": "stream",
     "text": [
      "28\n",
      "8\n"
     ]
    }
   ],
   "source": [
    "X = sales.values\n",
    "train = X[0:28] # 27 data as train data\n",
    "test = X[29:] # 9 data as test data\n",
    "print(train.size)\n",
    "print(test.size)\n",
    "predictions = []"
   ]
  },
  {
   "cell_type": "markdown",
   "metadata": {},
   "source": [
    "# ARIMA Model"
   ]
  },
  {
   "cell_type": "code",
   "execution_count": 35,
   "metadata": {},
   "outputs": [],
   "source": [
    "from statsmodels.tsa.arima_model import ARIMA"
   ]
  },
  {
   "cell_type": "code",
   "execution_count": 36,
   "metadata": {},
   "outputs": [
    {
     "data": {
      "text/plain": [
       "[(0, 0, 0),\n",
       " (0, 0, 1),\n",
       " (0, 0, 2),\n",
       " (0, 0, 3),\n",
       " (0, 0, 4),\n",
       " (0, 0, 5),\n",
       " (0, 1, 0),\n",
       " (0, 1, 1),\n",
       " (0, 1, 2),\n",
       " (0, 1, 3),\n",
       " (0, 1, 4),\n",
       " (0, 1, 5),\n",
       " (0, 2, 0),\n",
       " (0, 2, 1),\n",
       " (0, 2, 2),\n",
       " (0, 2, 3),\n",
       " (0, 2, 4),\n",
       " (0, 2, 5),\n",
       " (0, 3, 0),\n",
       " (0, 3, 1),\n",
       " (0, 3, 2),\n",
       " (0, 3, 3),\n",
       " (0, 3, 4),\n",
       " (0, 3, 5),\n",
       " (0, 4, 0),\n",
       " (0, 4, 1),\n",
       " (0, 4, 2),\n",
       " (0, 4, 3),\n",
       " (0, 4, 4),\n",
       " (0, 4, 5),\n",
       " (0, 5, 0),\n",
       " (0, 5, 1),\n",
       " (0, 5, 2),\n",
       " (0, 5, 3),\n",
       " (0, 5, 4),\n",
       " (0, 5, 5),\n",
       " (1, 0, 0),\n",
       " (1, 0, 1),\n",
       " (1, 0, 2),\n",
       " (1, 0, 3),\n",
       " (1, 0, 4),\n",
       " (1, 0, 5),\n",
       " (1, 1, 0),\n",
       " (1, 1, 1),\n",
       " (1, 1, 2),\n",
       " (1, 1, 3),\n",
       " (1, 1, 4),\n",
       " (1, 1, 5),\n",
       " (1, 2, 0),\n",
       " (1, 2, 1),\n",
       " (1, 2, 2),\n",
       " (1, 2, 3),\n",
       " (1, 2, 4),\n",
       " (1, 2, 5),\n",
       " (1, 3, 0),\n",
       " (1, 3, 1),\n",
       " (1, 3, 2),\n",
       " (1, 3, 3),\n",
       " (1, 3, 4),\n",
       " (1, 3, 5),\n",
       " (1, 4, 0),\n",
       " (1, 4, 1),\n",
       " (1, 4, 2),\n",
       " (1, 4, 3),\n",
       " (1, 4, 4),\n",
       " (1, 4, 5),\n",
       " (1, 5, 0),\n",
       " (1, 5, 1),\n",
       " (1, 5, 2),\n",
       " (1, 5, 3),\n",
       " (1, 5, 4),\n",
       " (1, 5, 5),\n",
       " (2, 0, 0),\n",
       " (2, 0, 1),\n",
       " (2, 0, 2),\n",
       " (2, 0, 3),\n",
       " (2, 0, 4),\n",
       " (2, 0, 5),\n",
       " (2, 1, 0),\n",
       " (2, 1, 1),\n",
       " (2, 1, 2),\n",
       " (2, 1, 3),\n",
       " (2, 1, 4),\n",
       " (2, 1, 5),\n",
       " (2, 2, 0),\n",
       " (2, 2, 1),\n",
       " (2, 2, 2),\n",
       " (2, 2, 3),\n",
       " (2, 2, 4),\n",
       " (2, 2, 5),\n",
       " (2, 3, 0),\n",
       " (2, 3, 1),\n",
       " (2, 3, 2),\n",
       " (2, 3, 3),\n",
       " (2, 3, 4),\n",
       " (2, 3, 5),\n",
       " (2, 4, 0),\n",
       " (2, 4, 1),\n",
       " (2, 4, 2),\n",
       " (2, 4, 3),\n",
       " (2, 4, 4),\n",
       " (2, 4, 5),\n",
       " (2, 5, 0),\n",
       " (2, 5, 1),\n",
       " (2, 5, 2),\n",
       " (2, 5, 3),\n",
       " (2, 5, 4),\n",
       " (2, 5, 5),\n",
       " (3, 0, 0),\n",
       " (3, 0, 1),\n",
       " (3, 0, 2),\n",
       " (3, 0, 3),\n",
       " (3, 0, 4),\n",
       " (3, 0, 5),\n",
       " (3, 1, 0),\n",
       " (3, 1, 1),\n",
       " (3, 1, 2),\n",
       " (3, 1, 3),\n",
       " (3, 1, 4),\n",
       " (3, 1, 5),\n",
       " (3, 2, 0),\n",
       " (3, 2, 1),\n",
       " (3, 2, 2),\n",
       " (3, 2, 3),\n",
       " (3, 2, 4),\n",
       " (3, 2, 5),\n",
       " (3, 3, 0),\n",
       " (3, 3, 1),\n",
       " (3, 3, 2),\n",
       " (3, 3, 3),\n",
       " (3, 3, 4),\n",
       " (3, 3, 5),\n",
       " (3, 4, 0),\n",
       " (3, 4, 1),\n",
       " (3, 4, 2),\n",
       " (3, 4, 3),\n",
       " (3, 4, 4),\n",
       " (3, 4, 5),\n",
       " (3, 5, 0),\n",
       " (3, 5, 1),\n",
       " (3, 5, 2),\n",
       " (3, 5, 3),\n",
       " (3, 5, 4),\n",
       " (3, 5, 5),\n",
       " (4, 0, 0),\n",
       " (4, 0, 1),\n",
       " (4, 0, 2),\n",
       " (4, 0, 3),\n",
       " (4, 0, 4),\n",
       " (4, 0, 5),\n",
       " (4, 1, 0),\n",
       " (4, 1, 1),\n",
       " (4, 1, 2),\n",
       " (4, 1, 3),\n",
       " (4, 1, 4),\n",
       " (4, 1, 5),\n",
       " (4, 2, 0),\n",
       " (4, 2, 1),\n",
       " (4, 2, 2),\n",
       " (4, 2, 3),\n",
       " (4, 2, 4),\n",
       " (4, 2, 5),\n",
       " (4, 3, 0),\n",
       " (4, 3, 1),\n",
       " (4, 3, 2),\n",
       " (4, 3, 3),\n",
       " (4, 3, 4),\n",
       " (4, 3, 5),\n",
       " (4, 4, 0),\n",
       " (4, 4, 1),\n",
       " (4, 4, 2),\n",
       " (4, 4, 3),\n",
       " (4, 4, 4),\n",
       " (4, 4, 5),\n",
       " (4, 5, 0),\n",
       " (4, 5, 1),\n",
       " (4, 5, 2),\n",
       " (4, 5, 3),\n",
       " (4, 5, 4),\n",
       " (4, 5, 5),\n",
       " (5, 0, 0),\n",
       " (5, 0, 1),\n",
       " (5, 0, 2),\n",
       " (5, 0, 3),\n",
       " (5, 0, 4),\n",
       " (5, 0, 5),\n",
       " (5, 1, 0),\n",
       " (5, 1, 1),\n",
       " (5, 1, 2),\n",
       " (5, 1, 3),\n",
       " (5, 1, 4),\n",
       " (5, 1, 5),\n",
       " (5, 2, 0),\n",
       " (5, 2, 1),\n",
       " (5, 2, 2),\n",
       " (5, 2, 3),\n",
       " (5, 2, 4),\n",
       " (5, 2, 5),\n",
       " (5, 3, 0),\n",
       " (5, 3, 1),\n",
       " (5, 3, 2),\n",
       " (5, 3, 3),\n",
       " (5, 3, 4),\n",
       " (5, 3, 5),\n",
       " (5, 4, 0),\n",
       " (5, 4, 1),\n",
       " (5, 4, 2),\n",
       " (5, 4, 3),\n",
       " (5, 4, 4),\n",
       " (5, 4, 5),\n",
       " (5, 5, 0),\n",
       " (5, 5, 1),\n",
       " (5, 5, 2),\n",
       " (5, 5, 3),\n",
       " (5, 5, 4),\n",
       " (5, 5, 5)]"
      ]
     },
     "execution_count": 36,
     "metadata": {},
     "output_type": "execute_result"
    }
   ],
   "source": [
    "import itertools\n",
    "p=d=q=range(0,6)\n",
    "pdq=list(itertools.product(p,d,q))\n",
    "pdq"
   ]
  },
  {
   "cell_type": "code",
   "execution_count": 37,
   "metadata": {},
   "outputs": [
    {
     "name": "stdout",
     "output_type": "stream",
     "text": [
      "(0, 0, 0) 335.09040511436183\n",
      "(0, 0, 1) 334.3872829957554\n",
      "(0, 0, 2) 329.31881164853866\n",
      "(0, 0, 3) 330.92416191319046\n",
      "(0, 0, 4) nan\n",
      "(0, 0, 5) nan\n",
      "(0, 1, 0) 324.4220452613395\n",
      "(0, 1, 1) 308.0017050784539\n",
      "(0, 1, 2) 306.7698573618047\n",
      "(0, 2, 0) 343.4502397203673\n",
      "(0, 2, 1) 318.26218827679946\n",
      "(1, 0, 0) 330.89180942559716\n",
      "(1, 0, 1) 325.63339493771554\n",
      "(1, 0, 2) 322.452435784985\n",
      "(1, 0, 4) 324.2380212596486\n",
      "(1, 1, 0) 309.1188767752589\n",
      "(1, 1, 1) 306.79093608908283\n",
      "(1, 1, 2) 306.91086651444687\n",
      "(1, 1, 3) 311.8713030852165\n",
      "(1, 1, 4) 309.119460681394\n",
      "(1, 1, 5) 314.62738257876856\n",
      "(1, 2, 0) 317.80308367611093\n",
      "(1, 2, 1) 304.2885462718525\n",
      "(1, 2, 4) 301.8424351037566\n",
      "(2, 0, 0) 322.09349459126526\n",
      "(2, 0, 1) 332.6125126521117\n",
      "(2, 1, 0) 310.4797159942327\n",
      "(2, 1, 1) 308.67508697382726\n",
      "(2, 1, 4) 310.73924673717534\n",
      "(2, 1, 5) 309.2613029479653\n",
      "(2, 2, 0) 317.24389670047566\n",
      "(2, 2, 1) 305.7053644719475\n",
      "(2, 2, 3) 301.9734154335286\n",
      "(3, 0, 0) 324.0564894639567\n",
      "(3, 1, 0) 305.21331482411324\n",
      "(3, 1, 1) 306.4702994791246\n",
      "(3, 1, 2) 303.3684827112802\n",
      "(3, 1, 3) 305.18376856699405\n",
      "(3, 1, 4) 306.97823625862407\n",
      "(3, 2, 0) 309.7952134616388\n",
      "(3, 2, 1) 300.1087027284846\n",
      "(3, 2, 2) 303.660395231423\n",
      "(3, 2, 3) 298.7706871607531\n",
      "(3, 2, 4) 300.66726631491315\n",
      "(4, 0, 0) 330.56305874298556\n",
      "(4, 0, 1) 333.4700753373488\n",
      "(4, 1, 0) 306.5300540913638\n",
      "(4, 1, 1) 308.44169440230996\n",
      "(4, 1, 2) 305.2617876916094\n",
      "(4, 1, 3) 307.1753079615818\n",
      "(4, 2, 0) 307.1934977443212\n",
      "(4, 2, 1) 301.16077434891594\n",
      "(4, 2, 2) 304.8145510258751\n",
      "(4, 2, 3) 300.7285954710541\n",
      "(5, 0, 0) 332.68026238819886\n",
      "(5, 0, 5) 327.95314542674777\n",
      "(5, 1, 0) 308.3655922901962\n",
      "(5, 1, 1) 310.0989625408523\n",
      "(5, 1, 2) 306.1696849837251\n",
      "(5, 1, 3) 308.876844636313\n",
      "(5, 2, 0) 306.8900144573388\n",
      "(5, 2, 1) 302.85315803610126\n",
      "(5, 2, 2) 302.5657340907053\n",
      "(5, 2, 3) 308.3799433275349\n"
     ]
    }
   ],
   "source": [
    "import warnings\n",
    "warnings.filterwarnings('ignore')\n",
    "for param in pdq:\n",
    "    try:\n",
    "        model_arima = ARIMA(train, order=param)\n",
    "        model_arima_fit = model_arima.fit()\n",
    "        print(param,model_arima_fit.aic)\n",
    "    except:\n",
    "        continue"
   ]
  },
  {
   "cell_type": "markdown",
   "metadata": {},
   "source": [
    "### It seems that out of different combinations ranging from order (0,0,0) to (5,5,5) param with values as p=3, d=2 and q=3 is the best because of lowest AIC value"
   ]
  },
  {
   "cell_type": "code",
   "execution_count": 38,
   "metadata": {},
   "outputs": [
    {
     "name": "stdout",
     "output_type": "stream",
     "text": [
      "298.7706871607531\n"
     ]
    }
   ],
   "source": [
    "#p,d,q \n",
    "#p -> Periods taken for auto regressive model\n",
    "#d -> Integrated order, difference\n",
    "#q -> Periods in moving average model\n",
    "model_arima = ARIMA(train, order=(3,2,3))\n",
    "model_arima_fit = model_arima.fit()\n",
    "print(model_arima_fit.aic)"
   ]
  },
  {
   "cell_type": "code",
   "execution_count": 39,
   "metadata": {},
   "outputs": [
    {
     "data": {
      "text/plain": [
       "array([334.25602577, 464.32659025, 426.09490955, 496.34479871,\n",
       "       443.78979395, 500.24046746, 504.44730005, 564.70607074])"
      ]
     },
     "execution_count": 39,
     "metadata": {},
     "output_type": "execute_result"
    }
   ],
   "source": [
    "predictions = model_arima_fit.forecast(steps=8)[0]\n",
    "predictions"
   ]
  },
  {
   "cell_type": "code",
   "execution_count": 40,
   "metadata": {},
   "outputs": [
    {
     "data": {
      "text/plain": [
       "[<matplotlib.lines.Line2D at 0x26256dda390>]"
      ]
     },
     "execution_count": 40,
     "metadata": {},
     "output_type": "execute_result"
    },
    {
     "data": {
      "image/png": "[encoded data removed]",
      "text/plain": [
       "<Figure size 432x288 with 1 Axes>"
      ]
     },
     "metadata": {
      "needs_background": "light"
     },
     "output_type": "display_data"
    }
   ],
   "source": [
    "plt.plot(test)\n",
    "plt.plot(predictions, color='red')"
   ]
  },
  {
   "cell_type": "code",
   "execution_count": null,
   "metadata": {},
   "outputs": [],
   "source": []
  }
 ],
 "metadata": {
  "kernelspec": {
   "display_name": "Python 3",
   "language": "python",
   "name": "python3"
  },
  "language_info": {
   "codemirror_mode": {
    "name": "ipython",
    "version": 3
   },
   "file_extension": ".py",
   "mimetype": "text/x-python",
   "name": "python",
   "nbconvert_exporter": "python",
   "pygments_lexer": "ipython3",
   "version": "3.7.0"
  }
 },
 "nbformat": 4,
 "nbformat_minor": 2
}
